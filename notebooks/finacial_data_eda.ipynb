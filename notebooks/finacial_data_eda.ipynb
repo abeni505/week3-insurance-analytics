{
 "cells": [
  {
   "cell_type": "code",
   "execution_count": null,
   "id": "7f0c2bf4",
   "metadata": {},
   "outputs": [],
   "source": [
    "import pandas as pd\n",
    "import seaborn as sns\n",
    "import matplotlib.pyplot as plt"
   ]
  },
  {
   "cell_type": "code",
   "execution_count": null,
   "id": "4a111c7c",
   "metadata": {},
   "outputs": [],
   "source": [
    "df = pd.read_csv(\"../data/MachineLearningRating_v3.txt\", delimiter=\"|\", encoding=\"utf-8\")\n",
    "df.info()\n",
    "df.describe(include='all')\n",
    "df.isnull().sum()\n",
    "df = pd.read_csv(\n",
    "    \"../data/MachineLearningRating_v3.txt\",\n",
    "    delimiter=\"|\",\n",
    "    encoding=\"utf-8\",\n",
    "    dtype={df.columns[32]: str, df.columns[37]: str},\n",
    "    low_memory=False\n",
    ")\n"
   ]
  },
  {
   "cell_type": "code",
   "execution_count": null,
   "id": "5a4209c4",
   "metadata": {},
   "outputs": [],
   "source": [
    "#EDA\n",
    "# Convert TransactionMonth to datetime and extract period\n",
    "df['TransactionMonth'] = pd.to_datetime(df['TransactionMonth'], errors='coerce')\n",
    "df['YearMonth'] = df['TransactionMonth'].dt.to_period('M')\n",
    "\n",
    "# Create Loss Ratio column\n",
    "df['LossRatio'] = df['TotalClaims'] / df['TotalPremium']\n"
   ]
  },
  {
   "cell_type": "code",
   "execution_count": null,
   "id": "61501290",
   "metadata": {},
   "outputs": [],
   "source": [
    "#OVER ALL LOSS RATIO\n",
    "overall_loss_ratio = df['TotalClaims'].sum() / df['TotalPremium'].sum()\n",
    "print(f\"Overall Loss Ratio: {overall_loss_ratio:.2f}\")"
   ]
  },
  {
   "cell_type": "code",
   "execution_count": null,
   "id": "7d6a782f",
   "metadata": {},
   "outputs": [],
   "source": [
    "#Loss Ratio by Province, Gender, VehicleType\n",
    "def group_loss_ratio(group_field):\n",
    "    group = df.groupby(group_field)[['TotalClaims', 'TotalPremium']].sum()\n",
    "    group['LossRatio'] = group['TotalClaims'] / group['TotalPremium']\n",
    "    return group.sort_values('LossRatio', ascending=False)\n",
    "\n",
    "loss_by_province = group_loss_ratio('Province')\n",
    "loss_by_gender = group_loss_ratio('Gender')\n",
    "loss_by_vehicle = group_loss_ratio('VehicleType')\n",
    "print(\"Loss Ratio by Province:\\n\", loss_by_province)\n",
    "print(\"Loss Ratio by Gender:\\n\", loss_by_gender)\n",
    "print(\"Loss Ratio by Vehicle Type:\\n\", loss_by_vehicle)"
   ]
  },
  {
   "cell_type": "code",
   "execution_count": null,
   "id": "14dd9f90",
   "metadata": {},
   "outputs": [],
   "source": [
    "#Visualize loss by Province\n",
    "sns.barplot(x=loss_by_province.index, y=loss_by_province['LossRatio'])\n",
    "plt.xticks(rotation=45)\n",
    "plt.title('Loss Ratio by Province')\n",
    "plt.show()"
   ]
  },
  {
   "cell_type": "code",
   "execution_count": null,
   "id": "f4546161",
   "metadata": {},
   "outputs": [],
   "source": [
    "#outlier detection\n",
    "plt.figure(figsize=(8, 4))\n",
    "sns.boxplot(x=df['TotalClaims'])\n",
    "plt.title(\"Boxplot of Total Claims\")\n",
    "plt.show()\n",
    "\n",
    "plt.figure(figsize=(8, 4))\n",
    "sns.histplot(df['CustomValueEstimate'].dropna(), kde=True)\n",
    "plt.title(\"Distribution of Custom Value Estimate\")\n",
    "plt.show()"
   ]
  },
  {
   "cell_type": "code",
   "execution_count": null,
   "id": "94069a39",
   "metadata": {},
   "outputs": [],
   "source": [
    "#Time Based Trends\n",
    "monthly_trends = df.groupby('YearMonth').agg({\n",
    "    'TotalClaims': 'sum',\n",
    "    'PolicyID': 'nunique'\n",
    "})\n",
    "monthly_trends['AvgClaimsPerPolicy'] = monthly_trends['TotalClaims'] / monthly_trends['PolicyID']\n",
    "\n",
    "monthly_trends[['TotalClaims', 'AvgClaimsPerPolicy']].plot(figsize=(12, 6), title='Monthly Claim Trends')\n"
   ]
  },
  {
   "cell_type": "code",
   "execution_count": null,
   "id": "5f1698cd",
   "metadata": {},
   "outputs": [],
   "source": [
    "#Vehicle Make & Model Risk\n",
    "vehicle_risk = df.groupby(['make', 'Model'])['TotalClaims'].mean().sort_values(ascending=False)\n",
    "\n",
    "top10_models = vehicle_risk.head(10)\n",
    "bottom10_models = vehicle_risk.tail(10)\n",
    "\n",
    "top10_models.plot(kind='barh', title=\"Top 10 Vehicle Models by Avg Claim\", figsize=(10,6))\n",
    "\n",
    "plt.gca().invert_yaxis()\n",
    "\n"
   ]
  },
  {
   "cell_type": "code",
   "execution_count": null,
   "id": "f9174bb7",
   "metadata": {},
   "outputs": [],
   "source": []
  }
 ],
 "metadata": {
  "kernelspec": {
   "display_name": "env",
   "language": "python",
   "name": "python3"
  },
  "language_info": {
   "codemirror_mode": {
    "name": "ipython",
    "version": 3
   },
   "file_extension": ".py",
   "mimetype": "text/x-python",
   "name": "python",
   "nbconvert_exporter": "python",
   "pygments_lexer": "ipython3",
   "version": "3.12.2"
  }
 },
 "nbformat": 4,
 "nbformat_minor": 5
}
